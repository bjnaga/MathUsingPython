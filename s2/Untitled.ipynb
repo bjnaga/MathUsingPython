{
 "cells": [
  {
   "cell_type": "code",
   "execution_count": 3,
   "id": "dbd8ac18",
   "metadata": {},
   "outputs": [
    {
     "data": {
      "text/latex": [
       "$\\displaystyle 4 + 3 = 7$"
      ],
      "text/plain": [
       "<IPython.core.display.Math object>"
      ]
     },
     "metadata": {},
     "output_type": "display_data"
    }
   ],
   "source": [
    "from IPython.display import display, Math\n",
    "\n",
    "display(Math('4 + 3 = 7'))"
   ]
  },
  {
   "cell_type": "code",
   "execution_count": 4,
   "id": "1e3376c2",
   "metadata": {},
   "outputs": [
    {
     "data": {
      "text/latex": [
       "$\\displaystyle 4 + 3 = 7$"
      ],
      "text/plain": [
       "<IPython.core.display.Math object>"
      ]
     },
     "metadata": {},
     "output_type": "display_data"
    }
   ],
   "source": [
    "x = 4\n",
    "y = 3\n",
    "display(Math(str(x) + ' + ' + str(y)+ ' = '+str(x+y)))"
   ]
  },
  {
   "cell_type": "code",
   "execution_count": 5,
   "id": "147829a8",
   "metadata": {},
   "outputs": [
    {
     "data": {
      "text/latex": [
       "$\\displaystyle 4+3=7$"
      ],
      "text/plain": [
       "<IPython.core.display.Math object>"
      ]
     },
     "metadata": {},
     "output_type": "display_data"
    }
   ],
   "source": [
    "display(Math('%g+%g=%g' %(x,y,x+y)))"
   ]
  },
  {
   "cell_type": "code",
   "execution_count": 6,
   "id": "5c313679",
   "metadata": {},
   "outputs": [
    {
     "data": {
      "text/latex": [
       "$\\displaystyle 4/5=.8$"
      ],
      "text/plain": [
       "<IPython.core.display.Math object>"
      ]
     },
     "metadata": {},
     "output_type": "display_data"
    }
   ],
   "source": [
    "display(Math('4/5=.8'))"
   ]
  },
  {
   "cell_type": "code",
   "execution_count": 7,
   "id": "6e362843",
   "metadata": {},
   "outputs": [
    {
     "data": {
      "text/latex": [
       "$\\displaystyle \\frac{4}{5} =.8$"
      ],
      "text/plain": [
       "<IPython.core.display.Math object>"
      ]
     },
     "metadata": {},
     "output_type": "display_data"
    }
   ],
   "source": [
    "display(Math('\\\\frac{4}{5} =.8')) # first {bracket} numerator second {bracket} is known denominator\n"
   ]
  },
  {
   "cell_type": "code",
   "execution_count": 9,
   "id": "a9cba918",
   "metadata": {},
   "outputs": [
    {
     "data": {
      "text/latex": [
       "$\\displaystyle 3.4 \\times 17 = 57.8$"
      ],
      "text/plain": [
       "<IPython.core.display.Math object>"
      ]
     },
     "metadata": {},
     "output_type": "display_data"
    }
   ],
   "source": [
    "x= 3.4\n",
    "y = 17\n",
    "\n",
    "display(Math('%g \\\\times %g = %g' % (x,y,x*y)))"
   ]
  },
  {
   "cell_type": "code",
   "execution_count": 21,
   "id": "b6af4166",
   "metadata": {},
   "outputs": [
    {
     "data": {
      "text/latex": [
       "$\\displaystyle 3x(4+y) = 42$"
      ],
      "text/plain": [
       "<IPython.core.display.Math object>"
      ]
     },
     "metadata": {},
     "output_type": "display_data"
    }
   ],
   "source": [
    "x = 7  \n",
    "y = -2  \n",
    "z = 5\n",
    "display(Math('%gx(%g+y) = %g' %(3,4,42)))"
   ]
  },
  {
   "cell_type": "code",
   "execution_count": 29,
   "id": "67c4d8de",
   "metadata": {},
   "outputs": [
    {
     "data": {
      "text/latex": [
       "$\\displaystyle 3\\times7(4-2) = 42$"
      ],
      "text/plain": [
       "<IPython.core.display.Math object>"
      ]
     },
     "metadata": {},
     "output_type": "display_data"
    }
   ],
   "source": [
    "display(Math('%g\\\\times%g(%g%g) = %g' %(3,x,4,y,42)))"
   ]
  },
  {
   "cell_type": "code",
   "execution_count": 26,
   "id": "c9c86fb8",
   "metadata": {},
   "outputs": [
    {
     "data": {
      "text/latex": [
       "$\\displaystyle -y-\\frac{x+3}{x}=0$"
      ],
      "text/plain": [
       "<IPython.core.display.Math object>"
      ]
     },
     "metadata": {},
     "output_type": "display_data"
    }
   ],
   "source": [
    "display(Math('-y-\\\\frac{x+%g}{z}=%g' %(3,0)))"
   ]
  },
  {
   "cell_type": "code",
   "execution_count": 28,
   "id": "d483ca57",
   "metadata": {},
   "outputs": [
    {
     "data": {
      "text/latex": [
       "$\\displaystyle --2-\\frac{7+3}{5}=0$"
      ],
      "text/plain": [
       "<IPython.core.display.Math object>"
      ]
     },
     "metadata": {},
     "output_type": "display_data"
    }
   ],
   "source": [
    "display(Math('-%g-\\\\frac{%g+%g}{%g}=%g' %(y,x,3,z,0)))"
   ]
  },
  {
   "cell_type": "code",
   "execution_count": null,
   "id": "0bb67b90",
   "metadata": {},
   "outputs": [],
   "source": []
  }
 ],
 "metadata": {
  "kernelspec": {
   "display_name": "math",
   "language": "python",
   "name": "math"
  },
  "language_info": {
   "codemirror_mode": {
    "name": "ipython",
    "version": 3
   },
   "file_extension": ".py",
   "mimetype": "text/x-python",
   "name": "python",
   "nbconvert_exporter": "python",
   "pygments_lexer": "ipython3",
   "version": "3.11.3"
  }
 },
 "nbformat": 4,
 "nbformat_minor": 5
}
